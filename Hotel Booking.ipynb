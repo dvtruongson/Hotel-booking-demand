{
 "cells": [
  {
   "cell_type": "code",
   "execution_count": 2,
   "metadata": {},
   "outputs": [
    {
     "name": "stderr",
     "output_type": "stream",
     "text": [
      "Using TensorFlow backend.\n"
     ]
    },
    {
     "name": "stdout",
     "output_type": "stream",
     "text": [
      "          hotel  is_canceled  lead_time  arrival_date_year arrival_date_month  \\\n",
      "0  Resort Hotel            0        342               2015               July   \n",
      "1  Resort Hotel            0        737               2015               July   \n",
      "2  Resort Hotel            0          7               2015               July   \n",
      "3  Resort Hotel            0         13               2015               July   \n",
      "4  Resort Hotel            0         14               2015               July   \n",
      "\n",
      "   arrival_date_week_number  arrival_date_day_of_month  \\\n",
      "0                        27                          1   \n",
      "1                        27                          1   \n",
      "2                        27                          1   \n",
      "3                        27                          1   \n",
      "4                        27                          1   \n",
      "\n",
      "   stays_in_weekend_nights  stays_in_week_nights  adults  ...  deposit_type  \\\n",
      "0                        0                     0       2  ...    No Deposit   \n",
      "1                        0                     0       2  ...    No Deposit   \n",
      "2                        0                     1       1  ...    No Deposit   \n",
      "3                        0                     1       1  ...    No Deposit   \n",
      "4                        0                     2       2  ...    No Deposit   \n",
      "\n",
      "   agent company days_in_waiting_list customer_type   adr  \\\n",
      "0    NaN     NaN                    0     Transient   0.0   \n",
      "1    NaN     NaN                    0     Transient   0.0   \n",
      "2    NaN     NaN                    0     Transient  75.0   \n",
      "3  304.0     NaN                    0     Transient  75.0   \n",
      "4  240.0     NaN                    0     Transient  98.0   \n",
      "\n",
      "   required_car_parking_spaces  total_of_special_requests  reservation_status  \\\n",
      "0                            0                          0           Check-Out   \n",
      "1                            0                          0           Check-Out   \n",
      "2                            0                          0           Check-Out   \n",
      "3                            0                          0           Check-Out   \n",
      "4                            0                          1           Check-Out   \n",
      "\n",
      "  reservation_status_date  \n",
      "0              2015-07-01  \n",
      "1              2015-07-01  \n",
      "2              2015-07-02  \n",
      "3              2015-07-02  \n",
      "4              2015-07-03  \n",
      "\n",
      "[5 rows x 32 columns]\n",
      "hotel                              object\n",
      "is_canceled                         int64\n",
      "lead_time                           int64\n",
      "arrival_date_year                   int64\n",
      "arrival_date_month                 object\n",
      "arrival_date_week_number            int64\n",
      "arrival_date_day_of_month           int64\n",
      "stays_in_weekend_nights             int64\n",
      "stays_in_week_nights                int64\n",
      "adults                              int64\n",
      "children                          float64\n",
      "babies                              int64\n",
      "meal                               object\n",
      "country                            object\n",
      "market_segment                     object\n",
      "distribution_channel               object\n",
      "is_repeated_guest                   int64\n",
      "previous_cancellations              int64\n",
      "previous_bookings_not_canceled      int64\n",
      "reserved_room_type                 object\n",
      "assigned_room_type                 object\n",
      "booking_changes                     int64\n",
      "deposit_type                       object\n",
      "agent                             float64\n",
      "company                           float64\n",
      "days_in_waiting_list                int64\n",
      "customer_type                      object\n",
      "adr                               float64\n",
      "required_car_parking_spaces         int64\n",
      "total_of_special_requests           int64\n",
      "reservation_status                 object\n",
      "reservation_status_date            object\n",
      "dtype: object\n",
      "hotel                                  0\n",
      "is_canceled                            0\n",
      "lead_time                              0\n",
      "arrival_date_year                      0\n",
      "arrival_date_month                     0\n",
      "arrival_date_week_number               0\n",
      "arrival_date_day_of_month              0\n",
      "stays_in_weekend_nights                0\n",
      "stays_in_week_nights                   0\n",
      "adults                                 0\n",
      "children                               4\n",
      "babies                                 0\n",
      "meal                                   0\n",
      "country                              488\n",
      "market_segment                         0\n",
      "distribution_channel                   0\n",
      "is_repeated_guest                      0\n",
      "previous_cancellations                 0\n",
      "previous_bookings_not_canceled         0\n",
      "reserved_room_type                     0\n",
      "assigned_room_type                     0\n",
      "booking_changes                        0\n",
      "deposit_type                           0\n",
      "agent                              16340\n",
      "company                           112593\n",
      "days_in_waiting_list                   0\n",
      "customer_type                          0\n",
      "adr                                    0\n",
      "required_car_parking_spaces            0\n",
      "total_of_special_requests              0\n",
      "reservation_status                     0\n",
      "reservation_status_date                0\n",
      "dtype: int64\n",
      "             hotel  is_canceled  lead_time  arrival_date_year  \\\n",
      "2392  Resort Hotel            0          6               2015   \n",
      "2697  Resort Hotel            0         24               2015   \n",
      "2867  Resort Hotel            0         24               2015   \n",
      "2877  Resort Hotel            0         24               2015   \n",
      "2878  Resort Hotel            0         24               2015   \n",
      "\n",
      "     arrival_date_month  arrival_date_week_number  arrival_date_day_of_month  \\\n",
      "2392            October                        42                         11   \n",
      "2697            October                        44                         26   \n",
      "2867           November                        45                          3   \n",
      "2877           November                        45                          3   \n",
      "2878           November                        45                          3   \n",
      "\n",
      "      stays_in_weekend_nights  stays_in_week_nights  adults  ...  \\\n",
      "2392                        2                     0       2  ...   \n",
      "2697                        7                    15       1  ...   \n",
      "2867                        0                     3       2  ...   \n",
      "2877                        2                    10       1  ...   \n",
      "2878                        3                    10       2  ...   \n",
      "\n",
      "      deposit_type  agent company days_in_waiting_list    customer_type   adr  \\\n",
      "2392    No Deposit  240.0   113.0                    0        Transient  82.0   \n",
      "2697    No Deposit  185.0   281.0                    0  Transient-Party  52.2   \n",
      "2867    No Deposit  334.0   281.0                    0  Transient-Party  48.0   \n",
      "2877    No Deposit  328.0   281.0                    0  Transient-Party  40.0   \n",
      "2878    No Deposit  326.0   281.0                    0  Transient-Party  48.0   \n",
      "\n",
      "      required_car_parking_spaces  total_of_special_requests  \\\n",
      "2392                            1                          1   \n",
      "2697                            0                          0   \n",
      "2867                            0                          0   \n",
      "2877                            0                          0   \n",
      "2878                            0                          0   \n",
      "\n",
      "      reservation_status reservation_status_date  \n",
      "2392           Check-Out              2015-10-13  \n",
      "2697           Check-Out              2015-11-17  \n",
      "2867           Check-Out              2015-11-06  \n",
      "2877           Check-Out              2015-11-15  \n",
      "2878           Check-Out              2015-11-16  \n",
      "\n",
      "[5 rows x 32 columns]\n"
     ]
    }
   ],
   "source": [
    "# Load the data\n",
    "import os\n",
    "from sklearn import preprocessing, metrics\n",
    "\n",
    "# Parameters\n",
    "do_grid_search_cv = True\n",
    "do_pca = False\n",
    "import requests\n",
    "\n",
    "import numpy as np\n",
    "import pandas as pd\n",
    "import seaborn as sns\n",
    "import matplotlib.pyplot as plt\n",
    "\n",
    "\n",
    "import os\n",
    "from keras import Sequential\n",
    "from keras.layers import Dense, Dropout\n",
    "from sklearn import preprocessing, metrics\n",
    "\n",
    "# Parameters\n",
    "do_grid_search_cv = True\n",
    "do_pca = False\n",
    "\n",
    "import numpy as np\n",
    "import pandas as pd\n",
    "import matplotlib.pyplot as plt\n",
    "\n",
    "def read_data(path, filename):\n",
    "    return pd.read_csv(os.path.join(path, filename))\n",
    "\n",
    "original_data = read_data('C:/Users/Mirela/PycharmProjects/Hotel Booking/hotel-booking-demand', 'hotel_bookings.csv')\n",
    "\n",
    "print(original_data.head())\n",
    "print(original_data.dtypes)\n",
    "\n",
    "print(original_data.isna().sum())\n",
    "original_data = original_data.dropna()\n",
    "print(original_data.head())\n",
    "\n"
   ]
  },
  {
   "cell_type": "code",
   "execution_count": 3,
   "metadata": {},
   "outputs": [
    {
     "name": "stdout",
     "output_type": "stream",
     "text": [
      "      hotel  is_canceled  lead_time  arrival_date_year  arrival_date_month  \\\n",
      "2392      1            0          6               2015                  10   \n",
      "2697      1            0         24               2015                  10   \n",
      "2867      1            0         24               2015                   9   \n",
      "2877      1            0         24               2015                   9   \n",
      "2878      1            0         24               2015                   9   \n",
      "\n",
      "      arrival_date_week_number  arrival_date_day_of_month  \\\n",
      "2392                        42                         11   \n",
      "2697                        44                         26   \n",
      "2867                        45                          3   \n",
      "2877                        45                          3   \n",
      "2878                        45                          3   \n",
      "\n",
      "      stays_in_weekend_nights  stays_in_week_nights  adults  ...  \\\n",
      "2392                        2                     0       2  ...   \n",
      "2697                        7                    15       1  ...   \n",
      "2867                        0                     3       2  ...   \n",
      "2877                        2                    10       1  ...   \n",
      "2878                        3                    10       2  ...   \n",
      "\n",
      "      deposit_type  agent  company  days_in_waiting_list  customer_type   adr  \\\n",
      "2392             0  240.0    113.0                     0              2  82.0   \n",
      "2697             0  185.0    281.0                     0              3  52.2   \n",
      "2867             0  334.0    281.0                     0              3  48.0   \n",
      "2877             0  328.0    281.0                     0              3  40.0   \n",
      "2878             0  326.0    281.0                     0              3  48.0   \n",
      "\n",
      "      required_car_parking_spaces  total_of_special_requests  \\\n",
      "2392                            1                          1   \n",
      "2697                            0                          0   \n",
      "2867                            0                          0   \n",
      "2877                            0                          0   \n",
      "2878                            0                          0   \n",
      "\n",
      "      reservation_status  reservation_status_date  \n",
      "2392                   1                        8  \n",
      "2697                   1                       22  \n",
      "2867                   1                       12  \n",
      "2877                   1                       20  \n",
      "2878                   1                       21  \n",
      "\n",
      "[5 rows x 32 columns]\n"
     ]
    }
   ],
   "source": [
    "# Encode the categorical features as numbers\n",
    "result = original_data.copy()\n",
    "encoders = {}\n",
    "for column in result.columns:\n",
    "\n",
    "    if result.dtypes[column] == pd.np.object:\n",
    "        encoders[column] = preprocessing.LabelEncoder()\n",
    "        result[column] = encoders[column].fit_transform(result[column])\n",
    "\n",
    "features = result\n",
    "feature_names = features.columns.get_values()\n",
    "print(features.head())"
   ]
  },
  {
   "cell_type": "code",
   "execution_count": 4,
   "metadata": {},
   "outputs": [],
   "source": [
    "# Labels are the values we want to predict\n",
    "labels = np.array(features['reservation_status']) # Create an array.\n",
    "\n",
    "# Remove the labels from the features\n",
    "# axis 1 refers to the columns\n",
    "\n",
    "features = features.drop('reservation_status', axis=1) #  Remove columns by specifying label names and coresponding axis"
   ]
  },
  {
   "cell_type": "code",
   "execution_count": 5,
   "metadata": {},
   "outputs": [],
   "source": [
    "# data normalization\n",
    "from sklearn.preprocessing import Normalizer\n",
    "\n",
    "normalizer = Normalizer()\n",
    "features = normalizer.fit_transform(features)"
   ]
  },
  {
   "cell_type": "code",
   "execution_count": 6,
   "metadata": {},
   "outputs": [
    {
     "name": "stdout",
     "output_type": "stream",
     "text": [
      "Training Features Shape: (151, 31)\n",
      "Training Labels Shape: (151,)\n",
      "Testing Features Shape: (66, 31)\n",
      "Testing Labels Shape: (66,)\n"
     ]
    }
   ],
   "source": [
    "# Using Skicit-learn to split data into training and testing sets\n",
    "\n",
    "from sklearn.model_selection import train_test_split\n",
    "\n",
    "# Split data into random train and test subsets\n",
    "train_features, test_features, train_labels, test_labels = train_test_split(features, labels, test_size=0.3,\n",
    "                                                                            random_state=42)\n",
    "# returns list containing train-test split of inputs.\n",
    "\n",
    "print('Training Features Shape:', train_features.shape)\n",
    "print('Training Labels Shape:', train_labels.shape)\n",
    "print('Testing Features Shape:', test_features.shape)\n",
    "print('Testing Labels Shape:', test_labels.shape)"
   ]
  },
  {
   "cell_type": "code",
   "execution_count": 7,
   "metadata": {},
   "outputs": [
    {
     "name": "stdout",
     "output_type": "stream",
     "text": [
      "3 classes\n"
     ]
    }
   ],
   "source": [
    "num_classes = np.max(train_labels) + 1\n",
    "print(num_classes, 'classes')"
   ]
  },
  {
   "cell_type": "code",
   "execution_count": 9,
   "metadata": {},
   "outputs": [],
   "source": [
    "import os\n",
    "from keras import Sequential\n",
    "from keras.layers import Dense, Dropout\n",
    "from sklearn import preprocessing, metrics\n",
    "\n",
    "input_dimensions = train_features.shape[1]\n",
    "optimizer = 'rmsprop'\n",
    "dropout = 0.05\n",
    "model = Sequential()\n",
    "inner_nodes = int(input_dimensions / 2)\n",
    "\n",
    "model.add(Dense(inner_nodes, kernel_initializer='uniform', activation='relu', input_dim=input_dimensions))\n",
    "model.add(Dropout(rate=dropout))\n",
    "model.add(Dense(inner_nodes, kernel_initializer='uniform', activation='relu'))\n",
    "model.add(Dropout(rate=dropout))\n",
    "model.add(Dense(num_classes, kernel_initializer='uniform', activation='softmax'))\n",
    "\n",
    "\n",
    "model.compile(loss='sparse_categorical_crossentropy', optimizer=optimizer,\n",
    "                  metrics=['accuracy'])\n"
   ]
  },
  {
   "cell_type": "code",
   "execution_count": 10,
   "metadata": {},
   "outputs": [
    {
     "name": "stdout",
     "output_type": "stream",
     "text": [
      "Model: \"sequential_2\"\n",
      "_________________________________________________________________\n",
      "Layer (type)                 Output Shape              Param #   \n",
      "=================================================================\n",
      "dense_4 (Dense)              (None, 15)                480       \n",
      "_________________________________________________________________\n",
      "dropout_3 (Dropout)          (None, 15)                0         \n",
      "_________________________________________________________________\n",
      "dense_5 (Dense)              (None, 15)                240       \n",
      "_________________________________________________________________\n",
      "dropout_4 (Dropout)          (None, 15)                0         \n",
      "_________________________________________________________________\n",
      "dense_6 (Dense)              (None, 3)                 48        \n",
      "=================================================================\n",
      "Total params: 768\n",
      "Trainable params: 768\n",
      "Non-trainable params: 0\n",
      "_________________________________________________________________\n",
      "[[0.33334476 0.33334547 0.3333098 ]\n",
      " [0.3333442  0.3333466  0.3333092 ]\n",
      " [0.33334452 0.33334592 0.33330953]\n",
      " [0.33334625 0.3333389  0.33331487]\n",
      " [0.3333447  0.33334574 0.33330962]\n",
      " [0.33334482 0.33334538 0.3333098 ]\n",
      " [0.33334467 0.33334574 0.33330965]\n",
      " [0.33334485 0.3333453  0.33330983]\n",
      " [0.33334473 0.33334553 0.33330977]\n",
      " [0.33334738 0.33333993 0.3333127 ]\n",
      " [0.3333447  0.33334574 0.33330956]\n",
      " [0.33334526 0.33334813 0.3333066 ]\n",
      " [0.3333469  0.33334357 0.33330956]\n",
      " [0.33334512 0.33334967 0.33330515]\n",
      " [0.33334407 0.33334225 0.3333137 ]]\n"
     ]
    }
   ],
   "source": [
    "model.summary()\n",
    "\n",
    "example_batch = train_features[:15]\n",
    "example_result = model.predict(example_batch)#Generates output predictions for the input samples.\n",
    "print(example_result)"
   ]
  },
  {
   "cell_type": "code",
   "execution_count": 11,
   "metadata": {},
   "outputs": [],
   "source": [
    "EPOCHS = 20\n",
    "\n",
    "history = model.fit(\n",
    "  train_features, train_labels,\n",
    "  epochs=EPOCHS, batch_size=512, validation_split = 0.2, verbose=0)#Trains the model for a given number of epochs (iterations on a dataset)"
   ]
  },
  {
   "cell_type": "code",
   "execution_count": 12,
   "metadata": {},
   "outputs": [
    {
     "name": "stdout",
     "output_type": "stream",
     "text": [
      "    val_loss  val_accuracy      loss  accuracy  epoch\n",
      "15  1.044074           1.0  1.055210       0.9     15\n",
      "16  1.040438           1.0  1.051919       0.9     16\n",
      "17  1.036758           1.0  1.049279       0.9     17\n",
      "18  1.032951           1.0  1.045809       0.9     18\n",
      "19  1.029045           1.0  1.042485       0.9     19\n"
     ]
    }
   ],
   "source": [
    "# Visualize the training progress\n",
    "hist = pd.DataFrame(history.history)\n",
    "hist['epoch'] = history.epoch\n",
    "print(hist.tail())"
   ]
  },
  {
   "cell_type": "code",
   "execution_count": 13,
   "metadata": {},
   "outputs": [
    {
     "data": {
      "image/png": "[encoded data removed]",
      "text/plain": [
       "<Figure size 432x288 with 1 Axes>"
      ]
     },
     "metadata": {
      "needs_background": "light"
     },
     "output_type": "display_data"
    },
    {
     "data": {
      "image/png": "[encoded data removed]",
      "text/plain": [
       "<Figure size 432x288 with 1 Axes>"
      ]
     },
     "metadata": {
      "needs_background": "light"
     },
     "output_type": "display_data"
    }
   ],
   "source": [
    "#Plotting the training and validation loss\n",
    "\n",
    "import matplotlib.pyplot as plt\n",
    "loss = history.history['loss']\n",
    "val_loss = history.history['val_loss']\n",
    "epochs = range(1, len(loss) + 1)\n",
    "plt.plot(epochs, loss, 'bo', label='Training loss')\n",
    "plt.plot(epochs, val_loss, 'b', label='Validation loss')\n",
    "plt.title('Training and validation loss')\n",
    "plt.xlabel('Epochs')\n",
    "plt.ylabel('Loss')\n",
    "plt.legend()\n",
    "plt.show()\n",
    "\n",
    "#Plotting the training and validation accuracy\n",
    "\n",
    "plt.clf() \n",
    "acc = history.history['accuracy']\n",
    "val_acc = history.history['val_accuracy']\n",
    "plt.plot(epochs, acc, 'bo', label='Training acc')\n",
    "plt.plot(epochs, val_acc, 'b', label='Validation acc')\n",
    "plt.title('Training and validation accuracy')\n",
    "plt.xlabel('Epochs')\n",
    "plt.ylabel('Loss')\n",
    "plt.legend()\n",
    "plt.show()"
   ]
  },
  {
   "cell_type": "code",
   "execution_count": 14,
   "metadata": {},
   "outputs": [
    {
     "name": "stdout",
     "output_type": "stream",
     "text": [
      "66/66 [==============================] - 0s 60us/step\n",
      "[1.0371307098504268, 0.9242424368858337]\n"
     ]
    }
   ],
   "source": [
    "results = model.evaluate(test_features, test_labels)\n",
    "\n",
    "print(results)"
   ]
  },
  {
   "cell_type": "code",
   "execution_count": 15,
   "metadata": {},
   "outputs": [],
   "source": [
    "predictions = model.predict(test_features)\n"
   ]
  },
  {
   "cell_type": "code",
   "execution_count": 16,
   "metadata": {},
   "outputs": [
    {
     "data": {
      "text/plain": [
       "(3,)"
      ]
     },
     "execution_count": 16,
     "metadata": {},
     "output_type": "execute_result"
    }
   ],
   "source": [
    "predictions[0].shape"
   ]
  },
  {
   "cell_type": "code",
   "execution_count": 17,
   "metadata": {},
   "outputs": [
    {
     "data": {
      "text/plain": [
       "1.0"
      ]
     },
     "execution_count": 17,
     "metadata": {},
     "output_type": "execute_result"
    }
   ],
   "source": [
    "np.sum(predictions[0])"
   ]
  },
  {
   "cell_type": "code",
   "execution_count": 18,
   "metadata": {},
   "outputs": [
    {
     "data": {
      "text/plain": [
       "1"
      ]
     },
     "execution_count": 18,
     "metadata": {},
     "output_type": "execute_result"
    }
   ],
   "source": [
    "np.argmax(predictions[0])"
   ]
  }
 ],
 "metadata": {
  "kernelspec": {
   "display_name": "Python 3",
   "language": "python",
   "name": "python3"
  },
  "language_info": {
   "codemirror_mode": {
    "name": "ipython",
    "version": 3
   },
   "file_extension": ".py",
   "mimetype": "text/x-python",
   "name": "python",
   "nbconvert_exporter": "python",
   "pygments_lexer": "ipython3",
   "version": "3.7.3"
  }
 },
 "nbformat": 4,
 "nbformat_minor": 1
}
